{
 "cells": [
  {
   "cell_type": "markdown",
   "id": "64723959-dbc0-485e-b024-52204d0b5e84",
   "metadata": {},
   "source": [
    "\n",
    "\n",
    "\n",
    "\n",
    "\n",
    "Data Types and Structures \n",
    "\n",
    "1. What are data structures, and why are they important?\n",
    "ANSWER-Data structures are ways of storing and organizing data (like lists, tuples, sets, dictionaries).\n",
    "They are important because they help us store, search, and process data efficiently.\n",
    "\n",
    "\n",
    "\n",
    "\n",
    "2. Explain the difference between mutable and immutable data types with examples.\n",
    "\n",
    "ANSWER-Mutable: Can be changed after creation. Example → list, dict, set.\n",
    "\n",
    "ANSWER-Immutable: Cannot be changed after creation. Example → tuple, string, int.\n",
    "\n",
    "\n",
    "\n",
    "\n",
    "\n",
    "3. What are the main differences between lists and tuples in Python?\n",
    "\n",
    "ANSWER-List: Mutable (we can change elements), written with [].\n",
    "\n",
    "ANSWER-Tuple: Immutable (cannot change elements), written with ().\n",
    "\n",
    "\n",
    "\n",
    "\n",
    "\n",
    "4. Describe how dictionaries store data.\n",
    "ANSWER-Dictionaries store data as key-value pairs. Example:\n",
    "\n",
    "ANSWER-student = {\"name\": \"Rahul\", \"age\": 20}\n",
    "\n",
    "\n",
    "\n",
    "\n",
    "5. Why might you use a set instead of a list in Python?\n",
    "ANSWER-Because sets:\n",
    "\n",
    "ANSWER-Do not allow duplicate values.\n",
    "\n",
    "ANSWER-Provide faster searching.\n",
    "\n",
    "\n",
    "\n",
    "\n",
    "\n",
    "6. What is a string in Python, and how is it different from a list?\n",
    "\n",
    "ANSWER-String: A sequence of characters (immutable).\n",
    "\n",
    "ANSWER-List: A sequence of items (mutable, can store any type).\n",
    "\n",
    "\n",
    "\n",
    "\n",
    "\n",
    "7. How do tuples ensure data integrity in Python?\n",
    "ANSWER-Since tuples are immutable, data inside them cannot be changed, which keeps data safe.\n",
    "\n",
    "\n",
    "\n",
    "\n",
    "8. What is a hash table, and how does it relate to dictionaries in Python?\n",
    "ANSWER-A hash table is a data structure that stores data using a hash function for quick access.\n",
    "       Python dictionaries are implemented using hash tables.\n",
    "\n",
    "\n",
    "\n",
    "\n",
    "9. Can lists contain different data types in Python?\n",
    "ANSWER-Yes  Example:\n",
    "\n",
    "       my_list = [10, \"hello\", 3.14, True]\n",
    "\n",
    "\n",
    "\n",
    "\n",
    "10. Explain why strings are immutable in Python.\n",
    "ANSWER-Strings are immutable so that they are:\n",
    "\n",
    "       More secure\n",
    "\n",
    "       Memory efficient\n",
    "\n",
    "       Easy to share without risk of modification\n",
    "\n",
    "\n",
    "\n",
    "\n",
    "\n",
    "11. What advantages do dictionaries offer over lists for certain tasks?\n",
    "\n",
    "ANSWER-Fast lookups using keys.\n",
    "\n",
    "ANSWER-More meaningful (key-value mapping).\n",
    "\n",
    "ANSWER-No need to remember index positions.\n",
    "\n",
    "\n",
    "\n",
    "\n",
    "\n",
    "12. Describe a scenario where using a tuple would be preferable over a list.\n",
    "ANSWER-If you want to store fixed data that should not change, like coordinates (x, y) = (5, 10).\n",
    "\n",
    "\n",
    "\n",
    "\n",
    "13. How do sets handle duplicate values in Python?\n",
    "ANSWER-Sets automatically remove duplicates.\n",
    "\n",
    "       s = {1, 2, 2, 3}\n",
    "       print(s)  # {1, 2, 3}\n",
    "\n",
    "\n",
    "\n",
    "\n",
    "14. How does the “in” keyword work differently for lists and dictionaries?\n",
    "\n",
    "ANSWER-For lists, in checks if a value exists.\n",
    "\n",
    "ANSWER-For dictionaries, in checks if a key exists.\n",
    "\n",
    "\n",
    "\n",
    "\n",
    "15. Can you modify the elements of a tuple? Explain why or why not.\n",
    "ANSWER-No  because tuples are immutable (cannot be changed once created).\n",
    "\n",
    "\n",
    "\n",
    "\n",
    "16. What is a nested dictionary, and give an example of its use case?\n",
    "ANSWER-A dictionary inside another dictionary. Example:\n",
    "\n",
    "     students = {\n",
    "     \"101\": {\"name\": \"Amit\", \"age\": 20},\n",
    "     \"102\": {\"name\": \"Sara\", \"age\": 22}\n",
    "}\n",
    "\n",
    "\n",
    "\n",
    "\n",
    "17. Describe the time complexity of accessing elements in a dictionary.\n",
    "ANSWER-Accessing elements in a dictionary is O(1) → very fast, almost instant.\n",
    "\n",
    "\n",
    "\n",
    "\n",
    "18. In what situations are lists preferred over dictionaries?\n",
    "\n",
    "ANSWER-When order matters.\n",
    "\n",
    "ANSWER-When you only need values (not key-value pairs).\n",
    "\n",
    "\n",
    "\n",
    "\n",
    "19. Why are dictionaries considered unordered, and how does that affect data retrieval?\n",
    "ANSWER-Earlier, dictionaries did not store items in order. Now (Python 3.7+), they keep insertion order.\n",
    "       But data retrieval is based on keys, not positions.\n",
    "\n",
    "\n",
    "\n",
    "20. Explain the difference between a list and a dictionary in terms of data retrieval.\n",
    "\n",
    "ANSWER-List: Retrieve by index (e.g., mylist[0]).\n",
    "\n",
    "ANSWER-Dictionary: Retrieve by key (e.g., mydict[\"name\"])."
   ]
  },
  {
   "cell_type": "markdown",
   "id": "2c704fa4-0ffa-41e2-9b0f-be4c5e95605d",
   "metadata": {},
   "source": [
    "PRACTICAL QUESTION\n"
   ]
  },
  {
   "cell_type": "code",
   "execution_count": 1,
   "id": "357d9a78-90d2-4a29-97fc-4d5ba11dd370",
   "metadata": {},
   "outputs": [
    {
     "name": "stdout",
     "output_type": "stream",
     "text": [
      "Akash\n"
     ]
    }
   ],
   "source": [
    "#1. Create a string with your name and print it.\n",
    "\n",
    "name = \"Akash\"\n",
    "print(name)\n",
    "\n"
   ]
  },
  {
   "cell_type": "code",
   "execution_count": 2,
   "id": "ccaf5442-293f-48d2-ae5f-2330b45c4faf",
   "metadata": {},
   "outputs": [
    {
     "name": "stdout",
     "output_type": "stream",
     "text": [
      "11\n"
     ]
    }
   ],
   "source": [
    "#2. Find the length of the string \"Hello World\".\n",
    "text = \"Hello World\"\n",
    "print(len(text))\n"
   ]
  },
  {
   "cell_type": "code",
   "execution_count": 3,
   "id": "53f41ee1-f333-488b-800d-bc2316b8fd2a",
   "metadata": {},
   "outputs": [
    {
     "name": "stdout",
     "output_type": "stream",
     "text": [
      "Pyt\n"
     ]
    }
   ],
   "source": [
    "#3. Slice the first 3 characters from the string \"Python Programming\".\n",
    "text = \"Python Programming\"\n",
    "print(text[:3])\n",
    "\n",
    "\n"
   ]
  },
  {
   "cell_type": "code",
   "execution_count": 4,
   "id": "8b2e778c-10cc-40ba-9d0f-52e46661f945",
   "metadata": {},
   "outputs": [
    {
     "name": "stdout",
     "output_type": "stream",
     "text": [
      "HELLO\n"
     ]
    }
   ],
   "source": [
    "#4. Convert the string \"hello\" to uppercase.\n",
    "\n",
    "text = \"hello\"\n",
    "print(text.upper())\n"
   ]
  },
  {
   "cell_type": "code",
   "execution_count": 5,
   "id": "ea4bdaa0-cac3-42c9-b180-61c17500a81c",
   "metadata": {},
   "outputs": [
    {
     "name": "stdout",
     "output_type": "stream",
     "text": [
      "I like orange\n"
     ]
    }
   ],
   "source": [
    "#5. Replace the word \"apple\" with \"orange\" in the string \"I like apple\".\n",
    "text = \"I like apple\"\n",
    "print(text.replace(\"apple\", \"orange\"))\n"
   ]
  },
  {
   "cell_type": "code",
   "execution_count": 6,
   "id": "50b7848d-8b11-401a-9e5a-88d390c7ad3d",
   "metadata": {},
   "outputs": [
    {
     "name": "stdout",
     "output_type": "stream",
     "text": [
      "[1, 2, 3, 4, 5]\n"
     ]
    }
   ],
   "source": [
    "#6. Create a list with numbers 1 to 5 and print it.\n",
    "numbers = [1, 2, 3, 4, 5]\n",
    "print(numbers)\n"
   ]
  },
  {
   "cell_type": "code",
   "execution_count": 7,
   "id": "c01781fb-c1b7-4948-8e82-f7b3ff19cc42",
   "metadata": {},
   "outputs": [
    {
     "name": "stdout",
     "output_type": "stream",
     "text": [
      "[1, 2, 3, 4, 10]\n"
     ]
    }
   ],
   "source": [
    "#7. Append the number 10 to the list [1, 2, 3, 4].\n",
    "numbers = [1, 2, 3, 4]\n",
    "numbers.append(10)\n",
    "print(numbers)\n"
   ]
  },
  {
   "cell_type": "code",
   "execution_count": 8,
   "id": "e7483b49-a6a7-4e4a-b0b7-f211b67a6813",
   "metadata": {},
   "outputs": [
    {
     "name": "stdout",
     "output_type": "stream",
     "text": [
      "[1, 2, 4, 5]\n"
     ]
    }
   ],
   "source": [
    "#8. Remove the number 3 from the list [1, 2, 3, 4, 5].\n",
    "numbers = [1, 2, 3, 4, 5]\n",
    "numbers.remove(3)\n",
    "print(numbers)\n"
   ]
  },
  {
   "cell_type": "code",
   "execution_count": 9,
   "id": "29cc2e9e-f9ff-4e94-999f-506baebbee26",
   "metadata": {},
   "outputs": [
    {
     "name": "stdout",
     "output_type": "stream",
     "text": [
      "b\n"
     ]
    }
   ],
   "source": [
    "#9. Access the second element in the list ['a', 'b', 'c', 'd'].\n",
    "letters = ['a', 'b', 'c', 'd']\n",
    "print(letters[1])\n"
   ]
  },
  {
   "cell_type": "code",
   "execution_count": 10,
   "id": "a8da62e3-ef28-4654-8200-5302861c30b4",
   "metadata": {},
   "outputs": [
    {
     "name": "stdout",
     "output_type": "stream",
     "text": [
      "[50, 40, 30, 20, 10]\n"
     ]
    }
   ],
   "source": [
    "#10. Reverse the list [10, 20, 30, 40, 50].\n",
    "numbers = [10, 20, 30, 40, 50]\n",
    "numbers.reverse()\n",
    "print(numbers)\n"
   ]
  },
  {
   "cell_type": "code",
   "execution_count": 11,
   "id": "80e0467a-1713-4ef1-8346-a5e24e7e9fe3",
   "metadata": {},
   "outputs": [
    {
     "name": "stdout",
     "output_type": "stream",
     "text": [
      "(100, 200, 300)\n"
     ]
    }
   ],
   "source": [
    "#11. Create a tuple with the elements 100, 200, 300 and print it.\n",
    "my_tuple = (100, 200, 300)\n",
    "print(my_tuple)\n"
   ]
  },
  {
   "cell_type": "code",
   "execution_count": 12,
   "id": "d3abcc19-8f81-4f35-9e38-57752b32cb2f",
   "metadata": {},
   "outputs": [
    {
     "name": "stdout",
     "output_type": "stream",
     "text": [
      "blue\n"
     ]
    }
   ],
   "source": [
    "#12. Access the second-to-last element of the tuple ('red', 'green', 'blue', 'yellow').\n",
    "colors = ('red', 'green', 'blue', 'yellow')\n",
    "print(colors[-2])\n"
   ]
  },
  {
   "cell_type": "code",
   "execution_count": 13,
   "id": "06d3f354-2bbf-4c02-a05b-d0fda71ce465",
   "metadata": {},
   "outputs": [
    {
     "name": "stdout",
     "output_type": "stream",
     "text": [
      "5\n"
     ]
    }
   ],
   "source": [
    "#13. Find the minimum number in the tuple (10, 20, 5, 15).\n",
    "nums = (10, 20, 5, 15)\n",
    "print(min(nums))\n"
   ]
  },
  {
   "cell_type": "code",
   "execution_count": 14,
   "id": "a01b33b4-2f3e-4475-9abf-0c3cf5ca8382",
   "metadata": {},
   "outputs": [
    {
     "name": "stdout",
     "output_type": "stream",
     "text": [
      "1\n"
     ]
    }
   ],
   "source": [
    "#14. Find the index of the element \"cat\" in the tuple ('dog', 'cat', 'rabbit').\n",
    "animals = ('dog', 'cat', 'rabbit')\n",
    "print(animals.index(\"cat\"))\n"
   ]
  },
  {
   "cell_type": "code",
   "execution_count": 15,
   "id": "2084b88c-55fd-48e2-b3ea-6b633f1c3b0d",
   "metadata": {},
   "outputs": [
    {
     "name": "stdout",
     "output_type": "stream",
     "text": [
      "False\n"
     ]
    }
   ],
   "source": [
    "#15. Create a tuple with 3 fruits and check if \"kiwi\" is in it.\n",
    "fruits = (\"apple\", \"banana\", \"mango\")\n",
    "print(\"kiwi\" in fruits)\n"
   ]
  },
  {
   "cell_type": "code",
   "execution_count": 16,
   "id": "0d5a7f77-82cf-41e4-b342-aa90edcca646",
   "metadata": {},
   "outputs": [
    {
     "name": "stdout",
     "output_type": "stream",
     "text": [
      "{'c', 'b', 'a'}\n"
     ]
    }
   ],
   "source": [
    "#16. Create a set with the elements 'a', 'b', 'c' and print it.\n",
    "my_set = {'a', 'b', 'c'}\n",
    "print(my_set)\n"
   ]
  },
  {
   "cell_type": "code",
   "execution_count": 17,
   "id": "ee4eaa5d-bd57-476f-a60f-317a3ec32254",
   "metadata": {},
   "outputs": [
    {
     "name": "stdout",
     "output_type": "stream",
     "text": [
      "set()\n"
     ]
    }
   ],
   "source": [
    "#17. Clear all elements from the set {1, 2, 3, 4, 5}.\n",
    "my_set = {1, 2, 3, 4, 5}\n",
    "my_set.clear()\n",
    "print(my_set)\n"
   ]
  },
  {
   "cell_type": "code",
   "execution_count": 18,
   "id": "639d7427-74f9-4b7d-b7f0-8a60870912ce",
   "metadata": {},
   "outputs": [
    {
     "name": "stdout",
     "output_type": "stream",
     "text": [
      "{1, 2, 3}\n"
     ]
    }
   ],
   "source": [
    "#18. Remove the element 4 from the set {1, 2, 3, 4}.\n",
    "my_set = {1, 2, 3, 4}\n",
    "my_set.remove(4)\n",
    "print(my_set)\n"
   ]
  },
  {
   "cell_type": "code",
   "execution_count": 19,
   "id": "3c0f87bd-4936-4fcb-8f27-eeffc6f58a5a",
   "metadata": {},
   "outputs": [
    {
     "name": "stdout",
     "output_type": "stream",
     "text": [
      "{1, 2, 3, 4, 5}\n"
     ]
    }
   ],
   "source": [
    "#19. Find the union of two sets {1, 2, 3} and {3, 4, 5}.\n",
    "set1 = {1, 2, 3}\n",
    "set2 = {3, 4, 5}\n",
    "print(set1.union(set2))\n"
   ]
  },
  {
   "cell_type": "code",
   "execution_count": 20,
   "id": "4374ac8b-9a3c-4b22-a4d3-792eccd7c97c",
   "metadata": {},
   "outputs": [
    {
     "name": "stdout",
     "output_type": "stream",
     "text": [
      "{2, 3}\n"
     ]
    }
   ],
   "source": [
    "#20. Find the intersection of two sets {1, 2, 3} and {2, 3, 4}.\n",
    "set1 = {1, 2, 3}\n",
    "set2 = {2, 3, 4}\n",
    "print(set1.intersection(set2))\n"
   ]
  },
  {
   "cell_type": "code",
   "execution_count": 21,
   "id": "785e8f84-bfdc-40ee-ba98-921bbf51d430",
   "metadata": {},
   "outputs": [
    {
     "name": "stdout",
     "output_type": "stream",
     "text": [
      "{'name': 'John', 'age': 25, 'city': 'Delhi'}\n"
     ]
    }
   ],
   "source": [
    "#21. Create a dictionary with keys \"name\", \"age\", and \"city\".\n",
    "person = {\"name\": \"John\", \"age\": 25, \"city\": \"Delhi\"}\n",
    "print(person)\n"
   ]
  },
  {
   "cell_type": "code",
   "execution_count": 22,
   "id": "0543a71f-9c29-4d41-be03-05974be53a65",
   "metadata": {},
   "outputs": [
    {
     "name": "stdout",
     "output_type": "stream",
     "text": [
      "{'name': 'John', 'age': 25, 'country': 'USA'}\n"
     ]
    }
   ],
   "source": [
    "#22. Add a new key–value pair \"country\": \"USA\".\n",
    "person = {\"name\": \"John\", \"age\": 25}\n",
    "person[\"country\"] = \"USA\"\n",
    "print(person)\n"
   ]
  },
  {
   "cell_type": "code",
   "execution_count": 25,
   "id": "18ab84fa-8d05-4ca4-9d8b-635856099ddd",
   "metadata": {},
   "outputs": [
    {
     "name": "stdout",
     "output_type": "stream",
     "text": [
      "Alice\n"
     ]
    }
   ],
   "source": [
    "#23. Access the value of the key \"name\".\n",
    "person = {\"name\": \"Alice\", \"age\": 30}\n",
    "print(person[\"name\"])\n"
   ]
  },
  {
   "cell_type": "code",
   "execution_count": 31,
   "id": "81c7ad28-99e8-475b-a715-b4bbb3362646",
   "metadata": {},
   "outputs": [
    {
     "name": "stdout",
     "output_type": "stream",
     "text": [
      "{'name': 'Bob', 'city': 'New York'}\n"
     ]
    }
   ],
   "source": [
    "#24. Remove the key \"age\" from the dictionary.\n",
    "person = {\"name\": \"Bob\", \"age\": 22, \"city\": \"New York\"}\n",
    "person.pop(\"age\")\n",
    "print(person)\n"
   ]
  },
  {
   "cell_type": "code",
   "execution_count": 32,
   "id": "7488e901-93e7-48ee-8de5-dbd96e2fd4da",
   "metadata": {},
   "outputs": [
    {
     "name": "stdout",
     "output_type": "stream",
     "text": [
      "True\n"
     ]
    }
   ],
   "source": [
    "#25. Check if the key \"city\" exists in the dictionary.\n",
    "person = {\"name\": \"Alice\", \"city\": \"Paris\"}\n",
    "print(\"city\" in person)\n"
   ]
  },
  {
   "cell_type": "code",
   "execution_count": 33,
   "id": "5752b176-1467-4456-a5f9-c3f8a01a64ab",
   "metadata": {},
   "outputs": [
    {
     "name": "stdout",
     "output_type": "stream",
     "text": [
      "[1, 2, 3] (4, 5, 6) {'a': 1, 'b': 2}\n"
     ]
    }
   ],
   "source": [
    "#26. Create a list, a tuple, and a dictionary, and print them all.\n",
    "my_list = [1, 2, 3]\n",
    "my_tuple = (4, 5, 6)\n",
    "my_dict = {\"a\": 1, \"b\": 2}\n",
    "print(my_list, my_tuple, my_dict)\n",
    "\n",
    "\n"
   ]
  },
  {
   "cell_type": "code",
   "execution_count": 34,
   "id": "45161d6f-5421-479d-a7c9-a4a003e297dc",
   "metadata": {},
   "outputs": [
    {
     "name": "stdout",
     "output_type": "stream",
     "text": [
      "[9, 13, 14, 33, 35]\n"
     ]
    }
   ],
   "source": [
    "#27. Create a list of 5 random numbers between 1 and 100, sort it, and print.\n",
    "import random\n",
    "numbers = random.sample(range(1, 101), 5)\n",
    "numbers.sort()\n",
    "print(numbers)\n",
    "\n"
   ]
  },
  {
   "cell_type": "code",
   "execution_count": 35,
   "id": "c99597d0-6b89-44dd-89ee-83ea56e6ca9f",
   "metadata": {},
   "outputs": [
    {
     "name": "stdout",
     "output_type": "stream",
     "text": [
      "date\n"
     ]
    }
   ],
   "source": [
    "#28. Create a list with strings and print the element at the third index.\n",
    "words = [\"apple\", \"banana\", \"cherry\", \"date\", \"kiwi\"]\n",
    "print(words[3])\n"
   ]
  },
  {
   "cell_type": "code",
   "execution_count": null,
   "id": "9e017096-9d8d-4a76-a8ca-f8e53e9aeda7",
   "metadata": {},
   "outputs": [],
   "source": [
    "#29. Combine two dictionaries into one and print the result.\n",
    "dict1 = {\"a\": 1, \"b\": 2}\n",
    "dict2 = {\"c\": 3, \"d\": 4}\n",
    "dict1.update(dict2)\n",
    "print(dict1)\n",
    "\n"
   ]
  }
 ],
 "metadata": {
  "kernelspec": {
   "display_name": "Python 3 (ipykernel)",
   "language": "python",
   "name": "python3"
  },
  "language_info": {
   "codemirror_mode": {
    "name": "ipython",
    "version": 3
   },
   "file_extension": ".py",
   "mimetype": "text/x-python",
   "name": "python",
   "nbconvert_exporter": "python",
   "pygments_lexer": "ipython3",
   "version": "3.13.7"
  }
 },
 "nbformat": 4,
 "nbformat_minor": 5
}
